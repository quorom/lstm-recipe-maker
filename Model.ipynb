{
 "cells": [
  {
   "cell_type": "code",
   "execution_count": 1,
   "metadata": {},
   "outputs": [],
   "source": [
    "import torch\n",
    "import torch.nn as nn\n",
    "import numpy as np\n",
    "from torch.nn.utils import clip_grad_norm_\n",
    "from data_utils import Dictionary, Corpus"
   ]
  },
  {
   "cell_type": "code",
   "execution_count": 2,
   "metadata": {},
   "outputs": [],
   "source": [
    "# Device configuration\n",
    "device = torch.device('cuda' if torch.cuda.is_available() else 'cpu')"
   ]
  },
  {
   "cell_type": "code",
   "execution_count": 3,
   "metadata": {},
   "outputs": [],
   "source": [
    "# Hyper-parameters\n",
    "embed_size = 128\n",
    "hidden_size = 2048\n",
    "num_layers = 2\n",
    "num_epochs = 15\n",
    "num_samples = 1000     # number of words to be sampled\n",
    "#batch_size = 20\n",
    "batch_size = 64\n",
    "seq_length = 30\n",
    "learning_rate = 0.002\n",
    "tanh = True\n",
    "Adam = True\n",
    "dropout = False"
   ]
  },
  {
   "cell_type": "code",
   "execution_count": 4,
   "metadata": {},
   "outputs": [],
   "source": [
    "if Adam:\n",
    "    batch_size = 20\n",
    "else:\n",
    "    batch_size = 128"
   ]
  },
  {
   "cell_type": "code",
   "execution_count": 5,
   "metadata": {},
   "outputs": [],
   "source": [
    "actFunc = \"tanh\" if tanh else \"ReLU\"\n",
    "opt = \"Adam\" if Adam else \"SGD\"\n",
    "d_out = \"Yes\" if dropout else \"No\"\n",
    "title = \"LSTM-L-\"+str(num_layers) + \"-H-\" + str(hidden_size) + \"-Dropout-\" + d_out + \"-\" + actFunc + \"-\" + opt "
   ]
  },
  {
   "cell_type": "code",
   "execution_count": 6,
   "metadata": {},
   "outputs": [
    {
     "data": {
      "text/plain": [
       "'LSTM-L-2-H-2048-Dropout-No-tanh-Adam'"
      ]
     },
     "execution_count": 6,
     "metadata": {},
     "output_type": "execute_result"
    }
   ],
   "source": [
    "title"
   ]
  },
  {
   "cell_type": "code",
   "execution_count": 7,
   "metadata": {},
   "outputs": [],
   "source": [
    "# Load \"Penn Treebank\" dataset\n",
    "corpus = Corpus()\n",
    "ids = corpus.get_data('data/cookbook.txt', batch_size)\n",
    "vocab_size = len(corpus.dictionary)\n",
    "num_batches = ids.size(1) // seq_length"
   ]
  },
  {
   "cell_type": "code",
   "execution_count": 8,
   "metadata": {},
   "outputs": [],
   "source": [
    "# RNN based language model\n",
    "class RNNLM(nn.Module):\n",
    "    def __init__(self, vocab_size, embed_size, hidden_size, num_layers):\n",
    "        super(RNNLM, self).__init__()\n",
    "        self.embed = nn.Embedding(vocab_size, embed_size)\n",
    "        self.lstm = None\n",
    "        if dropout:\n",
    "            self.lstm = nn.LSTM(embed_size, hidden_size, num_layers, dropout = 0.5, batch_first=True)\n",
    "        else:\n",
    "            self.lstm = nn.LSTM(embed_size, hidden_size, num_layers, batch_first=True)\n",
    "        self.linear = nn.Linear(hidden_size, vocab_size)\n",
    "        \n",
    "    def forward(self, x, h):\n",
    "        # Embed word ids to vectors\n",
    "        x = self.embed(x)\n",
    "        \n",
    "        # Forward propagate LSTM\n",
    "        out, (h, c) = self.lstm(x, h)\n",
    "        \n",
    "        # Reshape output to (batch_size*sequence_length, hidden_size)\n",
    "        out = out.reshape(out.size(0)*out.size(1), out.size(2))\n",
    "        \n",
    "        # Decode hidden states of all time steps\n",
    "        out = self.linear(out)\n",
    "        return out, (h, c)"
   ]
  },
  {
   "cell_type": "code",
   "execution_count": 9,
   "metadata": {},
   "outputs": [],
   "source": [
    "model = RNNLM(vocab_size, embed_size, hidden_size, num_layers).to(device)"
   ]
  },
  {
   "cell_type": "code",
   "execution_count": 10,
   "metadata": {},
   "outputs": [],
   "source": [
    "# Loss and optimizer\n",
    "criterion = nn.CrossEntropyLoss()\n",
    "optimizer = None\n",
    "if Adam:\n",
    "    optimizer = torch.optim.Adam(model.parameters(), lr=learning_rate)\n",
    "else:\n",
    "    optimizer = torch.optim.SGD(model.parameters(), lr=learning_rate)\n"
   ]
  },
  {
   "cell_type": "code",
   "execution_count": 11,
   "metadata": {},
   "outputs": [],
   "source": [
    "# Truncated backpropagation\n",
    "def detach(states):\n",
    "    return [state.detach() for state in states] "
   ]
  },
  {
   "cell_type": "code",
   "execution_count": 12,
   "metadata": {},
   "outputs": [
    {
     "name": "stdout",
     "output_type": "stream",
     "text": [
      "ok\n",
      "CPU times: user 456 µs, sys: 0 ns, total: 456 µs\n",
      "Wall time: 408 µs\n"
     ]
    }
   ],
   "source": [
    "%%time\n",
    "print('ok')"
   ]
  },
  {
   "cell_type": "code",
   "execution_count": 13,
   "metadata": {},
   "outputs": [
    {
     "name": "stdout",
     "output_type": "stream",
     "text": [
      "Epoch [1/15], Step[0/165], Loss: 8.3872, Perplexity: 4390.31\n",
      "Epoch [1/15], Step[100/165], Loss: 4.1905, Perplexity: 66.05\n",
      "Epoch [2/15], Step[0/165], Loss: 3.9066, Perplexity: 49.73\n",
      "Epoch [2/15], Step[100/165], Loss: 2.9118, Perplexity: 18.39\n",
      "Epoch [3/15], Step[0/165], Loss: 2.9095, Perplexity: 18.35\n",
      "Epoch [3/15], Step[100/165], Loss: 2.5567, Perplexity: 12.89\n",
      "Epoch [4/15], Step[0/165], Loss: 2.1830, Perplexity:  8.87\n",
      "Epoch [4/15], Step[100/165], Loss: 1.8357, Perplexity:  6.27\n",
      "Epoch [5/15], Step[0/165], Loss: 1.6191, Perplexity:  5.05\n",
      "Epoch [5/15], Step[100/165], Loss: 1.4698, Perplexity:  4.35\n",
      "Epoch [6/15], Step[0/165], Loss: 1.1473, Perplexity:  3.15\n",
      "Epoch [6/15], Step[100/165], Loss: 1.2110, Perplexity:  3.36\n",
      "Epoch [7/15], Step[0/165], Loss: 0.8924, Perplexity:  2.44\n",
      "Epoch [7/15], Step[100/165], Loss: 0.9678, Perplexity:  2.63\n",
      "Epoch [8/15], Step[0/165], Loss: 0.7082, Perplexity:  2.03\n",
      "Epoch [8/15], Step[100/165], Loss: 0.7830, Perplexity:  2.19\n",
      "Epoch [9/15], Step[0/165], Loss: 0.5418, Perplexity:  1.72\n",
      "Epoch [9/15], Step[100/165], Loss: 0.6357, Perplexity:  1.89\n",
      "Epoch [10/15], Step[0/165], Loss: 0.4654, Perplexity:  1.59\n",
      "Epoch [10/15], Step[100/165], Loss: 0.5932, Perplexity:  1.81\n",
      "Epoch [11/15], Step[0/165], Loss: 0.4078, Perplexity:  1.50\n",
      "Epoch [11/15], Step[100/165], Loss: 0.4189, Perplexity:  1.52\n",
      "Epoch [12/15], Step[0/165], Loss: 0.4175, Perplexity:  1.52\n",
      "Epoch [12/15], Step[100/165], Loss: 0.5039, Perplexity:  1.66\n",
      "Epoch [13/15], Step[0/165], Loss: 0.2941, Perplexity:  1.34\n",
      "Epoch [13/15], Step[100/165], Loss: 0.3832, Perplexity:  1.47\n",
      "Epoch [14/15], Step[0/165], Loss: 0.2432, Perplexity:  1.28\n",
      "Epoch [14/15], Step[100/165], Loss: 0.3501, Perplexity:  1.42\n",
      "Epoch [15/15], Step[0/165], Loss: 0.2926, Perplexity:  1.34\n",
      "Epoch [15/15], Step[100/165], Loss: 0.2816, Perplexity:  1.33\n",
      "CPU times: user 1min 53s, sys: 43.2 s, total: 2min 36s\n",
      "Wall time: 2min 39s\n"
     ]
    }
   ],
   "source": [
    "%%time\n",
    "# Train the model\n",
    "loss_ot = []\n",
    "for epoch in range(num_epochs):\n",
    "    # Set initial hidden and cell states\n",
    "    states = (torch.zeros(num_layers, batch_size, hidden_size).to(device),\n",
    "              torch.zeros(num_layers, batch_size, hidden_size).to(device))\n",
    "    \n",
    "    for i in range(0, ids.size(1) - seq_length, seq_length):\n",
    "        # Get mini-batch inputs and targets\n",
    "        inputs = ids[:, i:i+seq_length].to(device)\n",
    "        targets = ids[:, (i+1):(i+1)+seq_length].to(device)\n",
    "        \n",
    "        # Forward pass\n",
    "        states = detach(states)\n",
    "        outputs, states = model(inputs, states)\n",
    "        loss = criterion(outputs, targets.reshape(-1))\n",
    "        loss_ot.append(loss.item())\n",
    "        \n",
    "        # Backward and optimize\n",
    "        model.zero_grad()\n",
    "        loss.backward()\n",
    "        clip_grad_norm_(model.parameters(), 0.5)\n",
    "        optimizer.step()\n",
    "\n",
    "        step = (i+1) // seq_length\n",
    "        if step % 100 == 0:\n",
    "            print ('Epoch [{}/{}], Step[{}/{}], Loss: {:.4f}, Perplexity: {:5.2f}'\n",
    "                   .format(epoch+1, num_epochs, step, num_batches, loss.item(), np.exp(loss.item())))"
   ]
  },
  {
   "cell_type": "code",
   "execution_count": 14,
   "metadata": {},
   "outputs": [],
   "source": [
    "import matplotlib.pyplot as plt"
   ]
  },
  {
   "cell_type": "code",
   "execution_count": 15,
   "metadata": {},
   "outputs": [
    {
     "data": {
      "text/plain": [
       "RNNLM(\n",
       "  (embed): Embedding(4389, 128)\n",
       "  (lstm): LSTM(128, 2048, num_layers=2, batch_first=True)\n",
       "  (linear): Linear(in_features=2048, out_features=4389, bias=True)\n",
       ")"
      ]
     },
     "execution_count": 15,
     "metadata": {},
     "output_type": "execute_result"
    }
   ],
   "source": [
    "model"
   ]
  },
  {
   "cell_type": "code",
   "execution_count": 16,
   "metadata": {},
   "outputs": [
    {
     "data": {
      "image/png": "[encoded data removed]",
      "text/plain": [
       "<Figure size 432x288 with 1 Axes>"
      ]
     },
     "metadata": {},
     "output_type": "display_data"
    }
   ],
   "source": [
    "plt.xlabel('iters')\n",
    "plt.ylabel('loss')\n",
    "plt.title(\"Loss for \" + title)\n",
    "plt.plot(loss_ot)\n",
    "plt.savefig(\"imgs/\" + title, dpi=420)\n",
    "plt.show()"
   ]
  },
  {
   "cell_type": "code",
   "execution_count": null,
   "metadata": {},
   "outputs": [],
   "source": []
  },
  {
   "cell_type": "code",
   "execution_count": 17,
   "metadata": {},
   "outputs": [],
   "source": [
    "with open(\"metrics/\" + title + \".txt\", 'w') as f:\n",
    "    f.write(\"Loss: \" + str(loss_ot[-1]) + \"\\n\")\n",
    "    f.write(\"Perplexity: \" + str(np.exp(loss_ot[-1])) + \"\\n\")\n",
    "f.close()"
   ]
  },
  {
   "cell_type": "code",
   "execution_count": 18,
   "metadata": {},
   "outputs": [
    {
     "name": "stdout",
     "output_type": "stream",
     "text": [
      "Sampled [100/1000] words and save to outputs/LSTM-L-2-H-2048-Dropout-No-tanh-Adam.txt\n",
      "Sampled [200/1000] words and save to outputs/LSTM-L-2-H-2048-Dropout-No-tanh-Adam.txt\n",
      "Sampled [300/1000] words and save to outputs/LSTM-L-2-H-2048-Dropout-No-tanh-Adam.txt\n",
      "Sampled [400/1000] words and save to outputs/LSTM-L-2-H-2048-Dropout-No-tanh-Adam.txt\n",
      "Sampled [500/1000] words and save to outputs/LSTM-L-2-H-2048-Dropout-No-tanh-Adam.txt\n",
      "Sampled [600/1000] words and save to outputs/LSTM-L-2-H-2048-Dropout-No-tanh-Adam.txt\n",
      "Sampled [700/1000] words and save to outputs/LSTM-L-2-H-2048-Dropout-No-tanh-Adam.txt\n",
      "Sampled [800/1000] words and save to outputs/LSTM-L-2-H-2048-Dropout-No-tanh-Adam.txt\n",
      "Sampled [900/1000] words and save to outputs/LSTM-L-2-H-2048-Dropout-No-tanh-Adam.txt\n",
      "Sampled [1000/1000] words and save to outputs/LSTM-L-2-H-2048-Dropout-No-tanh-Adam.txt\n"
     ]
    }
   ],
   "source": [
    "# Test the model\n",
    "with torch.no_grad():\n",
    "    with open(\"outputs/\" + title + '.txt', 'w') as f:\n",
    "        # Set intial hidden ane cell states\n",
    "        state = (torch.zeros(num_layers, 1, hidden_size).to(device),\n",
    "                 torch.zeros(num_layers, 1, hidden_size).to(device))\n",
    "\n",
    "        # Select one word id randomly\n",
    "        prob = torch.ones(vocab_size)\n",
    "        input = torch.multinomial(prob, num_samples=1).unsqueeze(1).to(device)\n",
    "\n",
    "        for i in range(num_samples):\n",
    "            # Forward propagate RNN \n",
    "            output, state = model(input, state)\n",
    "\n",
    "            # Sample a word id\n",
    "            prob = output.exp()\n",
    "            word_id = torch.multinomial(prob, num_samples=1).item()\n",
    "\n",
    "            # Fill input with sampled word id for the next time step\n",
    "            input.fill_(word_id)\n",
    "\n",
    "            # File write\n",
    "            word = corpus.dictionary.idx2word[word_id]\n",
    "            word = '\\n' if word == '<eos>' else word + ' '\n",
    "            f.write(word)\n",
    "\n",
    "            if (i+1) % 100 == 0:\n",
    "                print('Sampled [{}/{}] words and save to {}'.format(i+1, num_samples, \"outputs/\" + title + '.txt'))\n",
    "\n",
    "f.close()\n",
    "# Save the model checkpoints\n",
    "# torch.save(model.state_dict(), 'saved_models/' + title + '.ckpt')"
   ]
  }
 ],
 "metadata": {
  "kernelspec": {
   "display_name": "Python 3",
   "language": "python",
   "name": "python3"
  },
  "language_info": {
   "codemirror_mode": {
    "name": "ipython",
    "version": 3
   },
   "file_extension": ".py",
   "mimetype": "text/x-python",
   "name": "python",
   "nbconvert_exporter": "python",
   "pygments_lexer": "ipython3",
   "version": "3.5.2"
  }
 },
 "nbformat": 4,
 "nbformat_minor": 2
}
